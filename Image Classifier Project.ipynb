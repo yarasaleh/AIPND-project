{
 "cells": [
  {
   "cell_type": "markdown",
   "metadata": {},
   "source": [
    "# Developing an AI application\n",
    "\n",
    "Going forward, AI algorithms will be incorporated into more and more everyday applications. For example, you might want to include an image classifier in a smart phone app. To do this, you'd use a deep learning model trained on hundreds of thousands of images as part of the overall application architecture. A large part of software development in the future will be using these types of models as common parts of applications. \n",
    "\n",
    "In this project, you'll train an image classifier to recognize different species of flowers. You can imagine using something like this in a phone app that tells you the name of the flower your camera is looking at. In practice you'd train this classifier, then export it for use in your application. We'll be using [this dataset](http://www.robots.ox.ac.uk/~vgg/data/flowers/102/index.html) of 102 flower categories, you can see a few examples below. \n",
    "\n",
    "<img src='assets/Flowers.png' width=500px>\n",
    "\n",
    "The project is broken down into multiple steps:\n",
    "\n",
    "* Load and preprocess the image dataset\n",
    "* Train the image classifier on your dataset\n",
    "* Use the trained classifier to predict image content\n",
    "\n",
    "We'll lead you through each part which you'll implement in Python.\n",
    "\n",
    "When you've completed this project, you'll have an application that can be trained on any set of labeled images. Here your network will be learning about flowers and end up as a command line application. But, what you do with your new skills depends on your imagination and effort in building a dataset. For example, imagine an app where you take a picture of a car, it tells you what the make and model is, then looks up information about it. Go build your own dataset and make something new.\n",
    "\n",
    "First up is importing the packages you'll need. It's good practice to keep all the imports at the beginning of your code. As you work through this notebook and find you need to import a package, make sure to add the import up here."
   ]
  },
  {
   "cell_type": "code",
   "execution_count": 1,
   "metadata": {},
   "outputs": [],
   "source": [
    "# Imports here\n",
    "import torch\n",
    "from torch import nn\n",
    "import torch.nn.functional as F\n",
    "from torch import optim\n",
    "from torchvision import datasets, transforms, models\n",
    "import numpy as np\n",
    "from PIL import Image\n",
    "import predict \n",
    "%matplotlib inline\n",
    "import matplotlib.pyplot as plt\n",
    "from matplotlib.ticker import FormatStrFormatter\n",
    "from workspace_utils import active_session\n",
    "import json"
   ]
  },
  {
   "cell_type": "markdown",
   "metadata": {},
   "source": [
    "## Load the data\n",
    "\n",
    "Here you'll use `torchvision` to load the data ([documentation](http://pytorch.org/docs/0.3.0/torchvision/index.html)). The data should be included alongside this notebook, otherwise you can [download it here](https://s3.amazonaws.com/content.udacity-data.com/nd089/flower_data.tar.gz). The dataset is split into three parts, training, validation, and testing. For the training, you'll want to apply transformations such as random scaling, cropping, and flipping. This will help the network generalize leading to better performance. You'll also need to make sure the input data is resized to 224x224 pixels as required by the pre-trained networks.\n",
    "\n",
    "The validation and testing sets are used to measure the model's performance on data it hasn't seen yet. For this you don't want any scaling or rotation transformations, but you'll need to resize then crop the images to the appropriate size.\n",
    "\n",
    "The pre-trained networks you'll use were trained on the ImageNet dataset where each color channel was normalized separately. For all three sets you'll need to normalize the means and standard deviations of the images to what the network expects. For the means, it's `[0.485, 0.456, 0.406]` and for the standard deviations `[0.229, 0.224, 0.225]`, calculated from the ImageNet images.  These values will shift each color channel to be centered at 0 and range from -1 to 1.\n",
    " "
   ]
  },
  {
   "cell_type": "code",
   "execution_count": 2,
   "metadata": {},
   "outputs": [],
   "source": [
    "data_dir = 'flowers'\n",
    "train_dir = data_dir + '/train'\n",
    "valid_dir = data_dir + '/valid'\n",
    "test_dir = data_dir + '/test'"
   ]
  },
  {
   "cell_type": "code",
   "execution_count": 3,
   "metadata": {},
   "outputs": [],
   "source": [
    "# TODO: Define your transforms for the training, validation, and testing sets\n",
    "train_transforms = transforms.Compose([transforms.RandomResizedCrop(224),\n",
    "                                      transforms.RandomHorizontalFlip(),\n",
    "                                      transforms.ToTensor(),\n",
    "                                      transforms.Normalize([0.485, 0.456, 0.406],\n",
    "                                                          [0.229, 0.224, 0.225])])\n",
    "test_valid_transforms = transforms.Compose([transforms.Resize(255),\n",
    "                                      transforms.CenterCrop(224),\n",
    "                                      transforms.ToTensor(),\n",
    "                                      transforms.Normalize([0.485, 0.456, 0.406],\n",
    "                                                          [0.229, 0.224, 0.225])])\n",
    "# TODO: Load the datasets with ImageFolder\n",
    "train_data = datasets.ImageFolder(train_dir, transform=train_transforms)\n",
    "test_data = datasets.ImageFolder(test_dir, transform=test_valid_transforms)\n",
    "valid_data = datasets.ImageFolder(valid_dir, transform=test_valid_transforms)\n",
    "\n",
    "# TODO: Using the image datasets and the trainforms, define the dataloaders\n",
    "trainloader = torch.utils.data.DataLoader(train_data,batch_size=64,shuffle=True)\n",
    "testloader  = torch.utils.data.DataLoader(test_data,batch_size=64)\n",
    "validloader = torch.utils.data.DataLoader(valid_data,batch_size=64)\n"
   ]
  },
  {
   "cell_type": "markdown",
   "metadata": {},
   "source": [
    "### Label mapping\n",
    "\n",
    "You'll also need to load in a mapping from category label to category name. You can find this in the file `cat_to_name.json`. It's a JSON object which you can read in with the [`json` module](https://docs.python.org/2/library/json.html). This will give you a dictionary mapping the integer encoded categories to the actual names of the flowers."
   ]
  },
  {
   "cell_type": "code",
   "execution_count": 4,
   "metadata": {},
   "outputs": [],
   "source": [
    "\n",
    "\n",
    "with open('cat_to_name.json', 'r') as f:\n",
    "    cat_to_name = json.load(f)"
   ]
  },
  {
   "cell_type": "code",
   "execution_count": null,
   "metadata": {},
   "outputs": [],
   "source": []
  },
  {
   "cell_type": "markdown",
   "metadata": {},
   "source": [
    "# Building and training the classifier\n",
    "\n",
    "Now that the data is ready, it's time to build and train the classifier. As usual, you should use one of the pretrained models from `torchvision.models` to get the image features. Build and train a new feed-forward classifier using those features.\n",
    "\n",
    "We're going to leave this part up to you. Refer to [the rubric](https://review.udacity.com/#!/rubrics/1663/view) for guidance on successfully completing this section. Things you'll need to do:\n",
    "\n",
    "* Load a [pre-trained network](http://pytorch.org/docs/master/torchvision/models.html) (If you need a starting point, the VGG networks work great and are straightforward to use)\n",
    "* Define a new, untrained feed-forward network as a classifier, using ReLU activations and dropout\n",
    "* Train the classifier layers using backpropagation using the pre-trained network to get the features\n",
    "* Track the loss and accuracy on the validation set to determine the best hyperparameters\n",
    "\n",
    "We've left a cell open for you below, but use as many as you need. Our advice is to break the problem up into smaller parts you can run separately. Check that each part is doing what you expect, then move on to the next. You'll likely find that as you work through each part, you'll need to go back and modify your previous code. This is totally normal!\n",
    "\n",
    "When training make sure you're updating only the weights of the feed-forward network. You should be able to get the validation accuracy above 70% if you build everything right. Make sure to try different hyperparameters (learning rate, units in the classifier, epochs, etc) to find the best model. Save those hyperparameters to use as default values in the next part of the project.\n",
    "\n",
    "One last important tip if you're using the workspace to run your code: To avoid having your workspace disconnect during the long-running tasks in this notebook, please read in the earlier page in this lesson called Intro to\n",
    "GPU Workspaces about Keeping Your Session Active. You'll want to include code from the workspace_utils.py module.\n",
    "\n",
    "**Note for Workspace users:** If your network is over 1 GB when saved as a checkpoint, there might be issues with saving backups in your workspace. Typically this happens with wide dense layers after the convolutional layers. If your saved checkpoint is larger than 1 GB (you can open a terminal and check with `ls -lh`), you should reduce the size of your hidden layers and train again."
   ]
  },
  {
   "cell_type": "code",
   "execution_count": 5,
   "metadata": {},
   "outputs": [
    {
     "name": "stderr",
     "output_type": "stream",
     "text": [
      "Downloading: \"https://download.pytorch.org/models/vgg16-397923af.pth\" to /root/.torch/models/vgg16-397923af.pth\n",
      "100%|██████████| 553433881/553433881 [00:05<00:00, 108603079.11it/s]\n"
     ]
    }
   ],
   "source": [
    "# TODO: Build and train your network\n",
    "# Use GPU if it's available\n",
    "device = torch.device(\"cuda\" if torch.cuda.is_available() else \"cpu\")\n",
    "\n",
    "#loading the pre-trained model VGG\n",
    "model = models.vgg16(pretrained=True)\n",
    "\n",
    "# freeze the parameters so we dont backprop them (update the weights)\n",
    "for param in model.parameters():\n",
    "    param.requires_grad = False\n",
    "\n",
    "# untrained feed-forward network\n",
    "model.classifier = nn.Sequential(nn.Linear(25088,4096),\n",
    "                                 nn.ReLU(),\n",
    "                                 nn.Dropout(0.2),\n",
    "                                 nn.Linear(4096,102),\n",
    "                                 nn.LogSoftmax(dim=1))\n",
    "\n",
    "criterion = nn.NLLLoss()\n",
    "# Only train the classifier(network) parameters, feature parameters are frozen\n",
    "optimizer = optim.Adam(model.classifier.parameters(), lr=0.003)\n",
    "\n",
    "model.to(device);"
   ]
  },
  {
   "cell_type": "code",
   "execution_count": 6,
   "metadata": {},
   "outputs": [
    {
     "name": "stdout",
     "output_type": "stream",
     "text": [
      "Epoch: 1/7..  Training Loss: 2.079..  Valid Loss: 40.238..  Accuracy: 0.048\n",
      "Epoch: 1/7..  Training Loss: 1.230..  Valid Loss: 7.851..  Accuracy: 0.089\n",
      "Epoch: 1/7..  Training Loss: 0.271..  Valid Loss: 4.042..  Accuracy: 0.145\n",
      "Epoch: 1/7..  Training Loss: 0.195..  Valid Loss: 3.335..  Accuracy: 0.252\n",
      "Epoch: 1/7..  Training Loss: 0.164..  Valid Loss: 2.965..  Accuracy: 0.321\n",
      "Epoch: 1/7..  Training Loss: 0.141..  Valid Loss: 2.476..  Accuracy: 0.399\n",
      "Epoch: 1/7..  Training Loss: 0.124..  Valid Loss: 2.437..  Accuracy: 0.396\n",
      "Epoch: 1/7..  Training Loss: 0.118..  Valid Loss: 2.039..  Accuracy: 0.486\n",
      "Epoch: 1/7..  Training Loss: 0.101..  Valid Loss: 1.809..  Accuracy: 0.554\n",
      "Epoch: 1/7..  Training Loss: 0.107..  Valid Loss: 1.799..  Accuracy: 0.544\n",
      "Epoch: 1/7..  Training Loss: 0.096..  Valid Loss: 1.597..  Accuracy: 0.562\n",
      "Epoch: 1/7..  Training Loss: 0.088..  Valid Loss: 1.502..  Accuracy: 0.611\n",
      "Epoch: 1/7..  Training Loss: 0.088..  Valid Loss: 1.520..  Accuracy: 0.600\n",
      "Epoch: 1/7..  Training Loss: 0.091..  Valid Loss: 1.480..  Accuracy: 0.608\n",
      "Epoch: 1/7..  Training Loss: 0.087..  Valid Loss: 1.433..  Accuracy: 0.624\n",
      "Epoch: 1/7..  Training Loss: 0.094..  Valid Loss: 1.558..  Accuracy: 0.629\n",
      "Epoch: 1/7..  Training Loss: 0.083..  Valid Loss: 1.156..  Accuracy: 0.694\n",
      "Epoch: 1/7..  Training Loss: 0.081..  Valid Loss: 1.225..  Accuracy: 0.682\n",
      "Epoch: 1/7..  Training Loss: 0.065..  Valid Loss: 1.193..  Accuracy: 0.688\n",
      "Epoch: 1/7..  Training Loss: 0.087..  Valid Loss: 1.141..  Accuracy: 0.702\n",
      "Epoch: 2/7..  Training Loss: 0.074..  Valid Loss: 1.354..  Accuracy: 0.651\n",
      "Epoch: 2/7..  Training Loss: 0.070..  Valid Loss: 1.183..  Accuracy: 0.687\n",
      "Epoch: 2/7..  Training Loss: 0.078..  Valid Loss: 1.146..  Accuracy: 0.702\n",
      "Epoch: 2/7..  Training Loss: 0.070..  Valid Loss: 1.129..  Accuracy: 0.727\n",
      "Epoch: 2/7..  Training Loss: 0.064..  Valid Loss: 1.146..  Accuracy: 0.713\n",
      "Epoch: 2/7..  Training Loss: 0.062..  Valid Loss: 1.071..  Accuracy: 0.726\n",
      "Epoch: 2/7..  Training Loss: 0.051..  Valid Loss: 1.037..  Accuracy: 0.726\n",
      "Epoch: 2/7..  Training Loss: 0.067..  Valid Loss: 0.886..  Accuracy: 0.748\n",
      "Epoch: 2/7..  Training Loss: 0.065..  Valid Loss: 1.009..  Accuracy: 0.740\n",
      "Epoch: 2/7..  Training Loss: 0.069..  Valid Loss: 1.009..  Accuracy: 0.745\n",
      "Epoch: 2/7..  Training Loss: 0.068..  Valid Loss: 1.027..  Accuracy: 0.734\n",
      "Epoch: 2/7..  Training Loss: 0.069..  Valid Loss: 0.987..  Accuracy: 0.736\n",
      "Epoch: 2/7..  Training Loss: 0.077..  Valid Loss: 1.010..  Accuracy: 0.743\n",
      "Epoch: 2/7..  Training Loss: 0.065..  Valid Loss: 1.122..  Accuracy: 0.705\n",
      "Epoch: 2/7..  Training Loss: 0.063..  Valid Loss: 1.051..  Accuracy: 0.721\n",
      "Epoch: 2/7..  Training Loss: 0.065..  Valid Loss: 0.989..  Accuracy: 0.755\n",
      "Epoch: 2/7..  Training Loss: 0.064..  Valid Loss: 0.967..  Accuracy: 0.761\n",
      "Epoch: 2/7..  Training Loss: 0.060..  Valid Loss: 1.033..  Accuracy: 0.753\n",
      "Epoch: 2/7..  Training Loss: 0.054..  Valid Loss: 0.943..  Accuracy: 0.777\n",
      "Epoch: 2/7..  Training Loss: 0.060..  Valid Loss: 0.917..  Accuracy: 0.767\n",
      "Epoch: 2/7..  Training Loss: 0.049..  Valid Loss: 0.948..  Accuracy: 0.762\n",
      "Epoch: 3/7..  Training Loss: 0.059..  Valid Loss: 0.995..  Accuracy: 0.753\n",
      "Epoch: 3/7..  Training Loss: 0.047..  Valid Loss: 1.017..  Accuracy: 0.746\n",
      "Epoch: 3/7..  Training Loss: 0.054..  Valid Loss: 0.937..  Accuracy: 0.777\n",
      "Epoch: 3/7..  Training Loss: 0.056..  Valid Loss: 0.845..  Accuracy: 0.787\n",
      "Epoch: 3/7..  Training Loss: 0.061..  Valid Loss: 0.874..  Accuracy: 0.776\n",
      "Epoch: 3/7..  Training Loss: 0.054..  Valid Loss: 0.892..  Accuracy: 0.784\n",
      "Epoch: 3/7..  Training Loss: 0.051..  Valid Loss: 0.864..  Accuracy: 0.788\n",
      "Epoch: 3/7..  Training Loss: 0.053..  Valid Loss: 0.731..  Accuracy: 0.813\n",
      "Epoch: 3/7..  Training Loss: 0.070..  Valid Loss: 0.839..  Accuracy: 0.788\n",
      "Epoch: 3/7..  Training Loss: 0.057..  Valid Loss: 1.030..  Accuracy: 0.746\n",
      "Epoch: 3/7..  Training Loss: 0.046..  Valid Loss: 0.919..  Accuracy: 0.795\n",
      "Epoch: 3/7..  Training Loss: 0.050..  Valid Loss: 0.927..  Accuracy: 0.777\n",
      "Epoch: 3/7..  Training Loss: 0.053..  Valid Loss: 0.900..  Accuracy: 0.784\n",
      "Epoch: 3/7..  Training Loss: 0.052..  Valid Loss: 0.857..  Accuracy: 0.801\n",
      "Epoch: 3/7..  Training Loss: 0.053..  Valid Loss: 0.875..  Accuracy: 0.790\n",
      "Epoch: 3/7..  Training Loss: 0.055..  Valid Loss: 0.927..  Accuracy: 0.787\n",
      "Epoch: 3/7..  Training Loss: 0.068..  Valid Loss: 0.878..  Accuracy: 0.798\n",
      "Epoch: 3/7..  Training Loss: 0.058..  Valid Loss: 0.935..  Accuracy: 0.781\n",
      "Epoch: 3/7..  Training Loss: 0.065..  Valid Loss: 0.960..  Accuracy: 0.773\n",
      "Epoch: 3/7..  Training Loss: 0.054..  Valid Loss: 0.904..  Accuracy: 0.778\n",
      "Epoch: 4/7..  Training Loss: 0.067..  Valid Loss: 0.900..  Accuracy: 0.798\n",
      "Epoch: 4/7..  Training Loss: 0.048..  Valid Loss: 0.949..  Accuracy: 0.789\n",
      "Epoch: 4/7..  Training Loss: 0.051..  Valid Loss: 1.009..  Accuracy: 0.781\n",
      "Epoch: 4/7..  Training Loss: 0.061..  Valid Loss: 0.867..  Accuracy: 0.802\n",
      "Epoch: 4/7..  Training Loss: 0.053..  Valid Loss: 0.868..  Accuracy: 0.810\n",
      "Epoch: 4/7..  Training Loss: 0.046..  Valid Loss: 0.946..  Accuracy: 0.783\n",
      "Epoch: 4/7..  Training Loss: 0.052..  Valid Loss: 0.893..  Accuracy: 0.797\n",
      "Epoch: 4/7..  Training Loss: 0.055..  Valid Loss: 0.855..  Accuracy: 0.795\n",
      "Epoch: 4/7..  Training Loss: 0.057..  Valid Loss: 0.903..  Accuracy: 0.800\n",
      "Epoch: 4/7..  Training Loss: 0.050..  Valid Loss: 0.905..  Accuracy: 0.784\n",
      "Epoch: 4/7..  Training Loss: 0.050..  Valid Loss: 0.875..  Accuracy: 0.806\n",
      "Epoch: 4/7..  Training Loss: 0.044..  Valid Loss: 0.863..  Accuracy: 0.803\n",
      "Epoch: 4/7..  Training Loss: 0.053..  Valid Loss: 0.857..  Accuracy: 0.812\n",
      "Epoch: 4/7..  Training Loss: 0.051..  Valid Loss: 0.840..  Accuracy: 0.808\n",
      "Epoch: 4/7..  Training Loss: 0.048..  Valid Loss: 0.766..  Accuracy: 0.817\n",
      "Epoch: 4/7..  Training Loss: 0.045..  Valid Loss: 0.786..  Accuracy: 0.812\n",
      "Epoch: 4/7..  Training Loss: 0.049..  Valid Loss: 0.859..  Accuracy: 0.806\n",
      "Epoch: 4/7..  Training Loss: 0.058..  Valid Loss: 0.816..  Accuracy: 0.804\n",
      "Epoch: 4/7..  Training Loss: 0.050..  Valid Loss: 0.737..  Accuracy: 0.811\n",
      "Epoch: 4/7..  Training Loss: 0.051..  Valid Loss: 0.826..  Accuracy: 0.799\n",
      "Epoch: 4/7..  Training Loss: 0.046..  Valid Loss: 0.844..  Accuracy: 0.802\n",
      "Epoch: 5/7..  Training Loss: 0.057..  Valid Loss: 0.877..  Accuracy: 0.794\n",
      "Epoch: 5/7..  Training Loss: 0.043..  Valid Loss: 0.850..  Accuracy: 0.804\n",
      "Epoch: 5/7..  Training Loss: 0.036..  Valid Loss: 0.905..  Accuracy: 0.801\n",
      "Epoch: 5/7..  Training Loss: 0.048..  Valid Loss: 0.908..  Accuracy: 0.821\n",
      "Epoch: 5/7..  Training Loss: 0.044..  Valid Loss: 0.971..  Accuracy: 0.805\n",
      "Epoch: 5/7..  Training Loss: 0.050..  Valid Loss: 0.964..  Accuracy: 0.807\n",
      "Epoch: 5/7..  Training Loss: 0.050..  Valid Loss: 1.043..  Accuracy: 0.789\n",
      "Epoch: 5/7..  Training Loss: 0.052..  Valid Loss: 0.929..  Accuracy: 0.798\n",
      "Epoch: 5/7..  Training Loss: 0.052..  Valid Loss: 0.884..  Accuracy: 0.797\n",
      "Epoch: 5/7..  Training Loss: 0.047..  Valid Loss: 1.093..  Accuracy: 0.761\n",
      "Epoch: 5/7..  Training Loss: 0.049..  Valid Loss: 0.865..  Accuracy: 0.798\n",
      "Epoch: 5/7..  Training Loss: 0.040..  Valid Loss: 0.860..  Accuracy: 0.808\n",
      "Epoch: 5/7..  Training Loss: 0.041..  Valid Loss: 0.889..  Accuracy: 0.813\n",
      "Epoch: 5/7..  Training Loss: 0.044..  Valid Loss: 0.893..  Accuracy: 0.816\n",
      "Epoch: 5/7..  Training Loss: 0.054..  Valid Loss: 0.940..  Accuracy: 0.814\n",
      "Epoch: 5/7..  Training Loss: 0.047..  Valid Loss: 0.850..  Accuracy: 0.847\n",
      "Epoch: 5/7..  Training Loss: 0.042..  Valid Loss: 0.864..  Accuracy: 0.819\n",
      "Epoch: 5/7..  Training Loss: 0.048..  Valid Loss: 0.930..  Accuracy: 0.809\n",
      "Epoch: 5/7..  Training Loss: 0.060..  Valid Loss: 0.933..  Accuracy: 0.819\n",
      "Epoch: 5/7..  Training Loss: 0.050..  Valid Loss: 0.952..  Accuracy: 0.801\n",
      "Epoch: 5/7..  Training Loss: 0.045..  Valid Loss: 1.036..  Accuracy: 0.789\n",
      "Epoch: 6/7..  Training Loss: 0.051..  Valid Loss: 0.936..  Accuracy: 0.806\n",
      "Epoch: 6/7..  Training Loss: 0.051..  Valid Loss: 0.812..  Accuracy: 0.815\n",
      "Epoch: 6/7..  Training Loss: 0.050..  Valid Loss: 0.826..  Accuracy: 0.806\n",
      "Epoch: 6/7..  Training Loss: 0.045..  Valid Loss: 0.940..  Accuracy: 0.801\n",
      "Epoch: 6/7..  Training Loss: 0.048..  Valid Loss: 0.910..  Accuracy: 0.811\n",
      "Epoch: 6/7..  Training Loss: 0.053..  Valid Loss: 0.935..  Accuracy: 0.795\n",
      "Epoch: 6/7..  Training Loss: 0.048..  Valid Loss: 0.962..  Accuracy: 0.780\n",
      "Epoch: 6/7..  Training Loss: 0.044..  Valid Loss: 0.939..  Accuracy: 0.793\n",
      "Epoch: 6/7..  Training Loss: 0.043..  Valid Loss: 0.926..  Accuracy: 0.793\n",
      "Epoch: 6/7..  Training Loss: 0.050..  Valid Loss: 0.970..  Accuracy: 0.789\n",
      "Epoch: 6/7..  Training Loss: 0.053..  Valid Loss: 0.982..  Accuracy: 0.798\n",
      "Epoch: 6/7..  Training Loss: 0.058..  Valid Loss: 0.900..  Accuracy: 0.812\n",
      "Epoch: 6/7..  Training Loss: 0.049..  Valid Loss: 0.921..  Accuracy: 0.795\n",
      "Epoch: 6/7..  Training Loss: 0.057..  Valid Loss: 0.865..  Accuracy: 0.817\n",
      "Epoch: 6/7..  Training Loss: 0.053..  Valid Loss: 0.935..  Accuracy: 0.812\n",
      "Epoch: 6/7..  Training Loss: 0.054..  Valid Loss: 1.095..  Accuracy: 0.786\n",
      "Epoch: 6/7..  Training Loss: 0.053..  Valid Loss: 0.914..  Accuracy: 0.811\n",
      "Epoch: 6/7..  Training Loss: 0.055..  Valid Loss: 0.824..  Accuracy: 0.814\n",
      "Epoch: 6/7..  Training Loss: 0.058..  Valid Loss: 0.886..  Accuracy: 0.805\n",
      "Epoch: 6/7..  Training Loss: 0.048..  Valid Loss: 0.852..  Accuracy: 0.814\n",
      "Epoch: 7/7..  Training Loss: 0.050..  Valid Loss: 0.884..  Accuracy: 0.805\n",
      "Epoch: 7/7..  Training Loss: 0.046..  Valid Loss: 0.815..  Accuracy: 0.806\n",
      "Epoch: 7/7..  Training Loss: 0.052..  Valid Loss: 0.882..  Accuracy: 0.808\n",
      "Epoch: 7/7..  Training Loss: 0.048..  Valid Loss: 0.859..  Accuracy: 0.808\n",
      "Epoch: 7/7..  Training Loss: 0.046..  Valid Loss: 0.881..  Accuracy: 0.810\n",
      "Epoch: 7/7..  Training Loss: 0.047..  Valid Loss: 0.931..  Accuracy: 0.818\n",
      "Epoch: 7/7..  Training Loss: 0.048..  Valid Loss: 0.902..  Accuracy: 0.818\n",
      "Epoch: 7/7..  Training Loss: 0.044..  Valid Loss: 0.885..  Accuracy: 0.826\n",
      "Epoch: 7/7..  Training Loss: 0.048..  Valid Loss: 0.910..  Accuracy: 0.826\n",
      "Epoch: 7/7..  Training Loss: 0.047..  Valid Loss: 0.846..  Accuracy: 0.827\n",
      "Epoch: 7/7..  Training Loss: 0.050..  Valid Loss: 0.816..  Accuracy: 0.821\n",
      "Epoch: 7/7..  Training Loss: 0.046..  Valid Loss: 0.862..  Accuracy: 0.821\n",
      "Epoch: 7/7..  Training Loss: 0.046..  Valid Loss: 0.879..  Accuracy: 0.818\n",
      "Epoch: 7/7..  Training Loss: 0.045..  Valid Loss: 0.929..  Accuracy: 0.813\n",
      "Epoch: 7/7..  Training Loss: 0.042..  Valid Loss: 0.847..  Accuracy: 0.810\n",
      "Epoch: 7/7..  Training Loss: 0.042..  Valid Loss: 0.921..  Accuracy: 0.814\n",
      "Epoch: 7/7..  Training Loss: 0.063..  Valid Loss: 0.998..  Accuracy: 0.802\n",
      "Epoch: 7/7..  Training Loss: 0.046..  Valid Loss: 0.969..  Accuracy: 0.817\n",
      "Epoch: 7/7..  Training Loss: 0.048..  Valid Loss: 0.919..  Accuracy: 0.816\n",
      "Epoch: 7/7..  Training Loss: 0.058..  Valid Loss: 0.857..  Accuracy: 0.822\n",
      "Epoch: 7/7..  Training Loss: 0.051..  Valid Loss: 0.853..  Accuracy: 0.817\n"
     ]
    }
   ],
   "source": [
    "\n",
    "with active_session():\n",
    "    epochs = 7\n",
    "    steps = 0\n",
    "    print_every = 5\n",
    "    running_loss = 0\n",
    "\n",
    "    for e in range(epochs):\n",
    "        for inputs , labels in trainloader:\n",
    "            steps += 1\n",
    "            # Move input and label tensors to the default device\n",
    "            inputs , labels = inputs.to(device), labels.to(device)\n",
    "            optimizer.zero_grad()\n",
    "            output = model.forward(inputs)\n",
    "            loss = criterion(output,labels)\n",
    "            loss.backward()\n",
    "            optimizer.step()\n",
    "\n",
    "            running_loss += loss.item()\n",
    "\n",
    "            if steps % print_every == 0:\n",
    "                valid_loss = 0\n",
    "                accuracy = 0\n",
    "                model.eval()\n",
    "                with torch.no_grad():\n",
    "                    for inputs , labels in validloader:\n",
    "                        inputs , labels = inputs.to(device) , labels.to(device)\n",
    "                        output = model.forward(inputs)\n",
    "                        batch_loss = criterion(output, labels)\n",
    "                        valid_loss += batch_loss.item()\n",
    "                       #calculate accuracy\n",
    "                        ps = torch.exp(output)\n",
    "                        top_p , top_class = ps.topk(1,dim=1)\n",
    "                        equals = top_class == labels.view(*top_class.shape)\n",
    "                        accuracy += torch.mean(equals.type(torch.FloatTensor)).item()\n",
    "                print(\"Epoch: {}/{}.. \".format(e+1, epochs),\n",
    "                  \"Training Loss: {:.3f}.. \".format(running_loss/len(trainloader)),\n",
    "                  \"Valid Loss: {:.3f}.. \".format(valid_loss/len(validloader)),\n",
    "                  \"Accuracy: {:.3f}\".format(accuracy/len(validloader)))\n",
    "                running_loss = 0\n"
   ]
  },
  {
   "cell_type": "markdown",
   "metadata": {},
   "source": [
    "## Testing your network\n",
    "\n",
    "It's good practice to test your trained network on test data, images the network has never seen either in training or validation. This will give you a good estimate for the model's performance on completely new images. Run the test images through the network and measure the accuracy, the same way you did validation. You should be able to reach around 70% accuracy on the test set if the model has been trained well."
   ]
  },
  {
   "cell_type": "code",
   "execution_count": 7,
   "metadata": {},
   "outputs": [],
   "source": [
    "# TODO: Do validation on the test set\n",
    "def check_test_accuracy(testloader):\n",
    "    correct = 0\n",
    "    total = 0\n",
    "    model.to(device)\n",
    "    with torch.no_grad():\n",
    "        for data in testloader:\n",
    "            images , labels = data\n",
    "            images , labels = images.to(device) , labels.to(device)\n",
    "            output = model(images)\n",
    "            _,predicted = torch.max(output.data,1)\n",
    "            total += labels.size(0)\n",
    "            correct += (predicted == labels).sum().item()\n",
    "            \n",
    "    print(\"The accuracy of the network test: {}\".format(100 * correct / total))"
   ]
  },
  {
   "cell_type": "code",
   "execution_count": 8,
   "metadata": {},
   "outputs": [
    {
     "name": "stdout",
     "output_type": "stream",
     "text": [
      "The accuracy of the network test: 80.0976800976801\n"
     ]
    }
   ],
   "source": [
    "\n",
    "with active_session():    \n",
    "    check_test_accuracy(testloader)"
   ]
  },
  {
   "cell_type": "markdown",
   "metadata": {},
   "source": [
    "## Save the checkpoint\n",
    "\n",
    "Now that your network is trained, save the model so you can load it later for making predictions. You probably want to save other things such as the mapping of classes to indices which you get from one of the image datasets: `image_datasets['train'].class_to_idx`. You can attach this to the model as an attribute which makes inference easier later on.\n",
    "\n",
    "```model.class_to_idx = image_datasets['train'].class_to_idx```\n",
    "\n",
    "Remember that you'll want to completely rebuild the model later so you can use it for inference. Make sure to include any information you need in the checkpoint. If you want to load the model and keep training, you'll want to save the number of epochs as well as the optimizer state, `optimizer.state_dict`. You'll likely want to use this trained model in the next part of the project, so best to save it now."
   ]
  },
  {
   "cell_type": "code",
   "execution_count": 9,
   "metadata": {},
   "outputs": [],
   "source": [
    "# TODO: Save the checkpoint \n",
    "epochs = 7\n",
    "model.class_to_idx = train_data.class_to_idx\n",
    "model.to(device)\n",
    "checkpoint = {'Structure': 'vgg16',\n",
    "             'input_size': 25088,\n",
    "             'output_size':102,\n",
    "             'epochs': epochs,\n",
    "             'class_to_idx': model.class_to_idx,\n",
    "             'state_dict': model.state_dict()}\n",
    "torch.save(checkpoint ,'checkpoint.pth')"
   ]
  },
  {
   "cell_type": "markdown",
   "metadata": {},
   "source": [
    "## Loading the checkpoint\n",
    "\n",
    "At this point it's good to write a function that can load a checkpoint and rebuild the model. That way you can come back to this project and keep working on it without having to retrain the network."
   ]
  },
  {
   "cell_type": "code",
   "execution_count": 10,
   "metadata": {},
   "outputs": [],
   "source": [
    "# TODO: Write a function that loads a checkpoint and rebuilds the model\n",
    "def load_checkpoint(filepath):\n",
    "    checkpoint = torch.load('checkpoint.pth')\n",
    "    Structure = checkpoint['Structure']\n",
    "    input_size = checkpoint['input_size']\n",
    "    output_size = checkpoint['output_size']\n",
    "    epochs = checkpoint ['epochs']\n",
    "    model.class_to_idx = checkpoint['class_to_idx']\n",
    "    model.load_state_dict(checkpoint['state_dict'])"
   ]
  },
  {
   "cell_type": "code",
   "execution_count": 11,
   "metadata": {},
   "outputs": [
    {
     "name": "stdout",
     "output_type": "stream",
     "text": [
      "VGG(\n",
      "  (features): Sequential(\n",
      "    (0): Conv2d(3, 64, kernel_size=(3, 3), stride=(1, 1), padding=(1, 1))\n",
      "    (1): ReLU(inplace)\n",
      "    (2): Conv2d(64, 64, kernel_size=(3, 3), stride=(1, 1), padding=(1, 1))\n",
      "    (3): ReLU(inplace)\n",
      "    (4): MaxPool2d(kernel_size=2, stride=2, padding=0, dilation=1, ceil_mode=False)\n",
      "    (5): Conv2d(64, 128, kernel_size=(3, 3), stride=(1, 1), padding=(1, 1))\n",
      "    (6): ReLU(inplace)\n",
      "    (7): Conv2d(128, 128, kernel_size=(3, 3), stride=(1, 1), padding=(1, 1))\n",
      "    (8): ReLU(inplace)\n",
      "    (9): MaxPool2d(kernel_size=2, stride=2, padding=0, dilation=1, ceil_mode=False)\n",
      "    (10): Conv2d(128, 256, kernel_size=(3, 3), stride=(1, 1), padding=(1, 1))\n",
      "    (11): ReLU(inplace)\n",
      "    (12): Conv2d(256, 256, kernel_size=(3, 3), stride=(1, 1), padding=(1, 1))\n",
      "    (13): ReLU(inplace)\n",
      "    (14): Conv2d(256, 256, kernel_size=(3, 3), stride=(1, 1), padding=(1, 1))\n",
      "    (15): ReLU(inplace)\n",
      "    (16): MaxPool2d(kernel_size=2, stride=2, padding=0, dilation=1, ceil_mode=False)\n",
      "    (17): Conv2d(256, 512, kernel_size=(3, 3), stride=(1, 1), padding=(1, 1))\n",
      "    (18): ReLU(inplace)\n",
      "    (19): Conv2d(512, 512, kernel_size=(3, 3), stride=(1, 1), padding=(1, 1))\n",
      "    (20): ReLU(inplace)\n",
      "    (21): Conv2d(512, 512, kernel_size=(3, 3), stride=(1, 1), padding=(1, 1))\n",
      "    (22): ReLU(inplace)\n",
      "    (23): MaxPool2d(kernel_size=2, stride=2, padding=0, dilation=1, ceil_mode=False)\n",
      "    (24): Conv2d(512, 512, kernel_size=(3, 3), stride=(1, 1), padding=(1, 1))\n",
      "    (25): ReLU(inplace)\n",
      "    (26): Conv2d(512, 512, kernel_size=(3, 3), stride=(1, 1), padding=(1, 1))\n",
      "    (27): ReLU(inplace)\n",
      "    (28): Conv2d(512, 512, kernel_size=(3, 3), stride=(1, 1), padding=(1, 1))\n",
      "    (29): ReLU(inplace)\n",
      "    (30): MaxPool2d(kernel_size=2, stride=2, padding=0, dilation=1, ceil_mode=False)\n",
      "  )\n",
      "  (classifier): Sequential(\n",
      "    (0): Linear(in_features=25088, out_features=4096, bias=True)\n",
      "    (1): ReLU()\n",
      "    (2): Dropout(p=0.2)\n",
      "    (3): Linear(in_features=4096, out_features=102, bias=True)\n",
      "    (4): LogSoftmax()\n",
      "  )\n",
      ")\n"
     ]
    }
   ],
   "source": [
    "load_checkpoint('checkpoint.pth')  \n",
    "print(model)"
   ]
  },
  {
   "cell_type": "markdown",
   "metadata": {},
   "source": [
    "# Inference for classification\n",
    "\n",
    "Now you'll write a function to use a trained network for inference. That is, you'll pass an image into the network and predict the class of the flower in the image. Write a function called `predict` that takes an image and a model, then returns the top $K$ most likely classes along with the probabilities. It should look like \n",
    "\n",
    "```python\n",
    "probs, classes = predict(image_path, model)\n",
    "print(probs)\n",
    "print(classes)\n",
    "> [ 0.01558163  0.01541934  0.01452626  0.01443549  0.01407339]\n",
    "> ['70', '3', '45', '62', '55']\n",
    "```\n",
    "\n",
    "First you'll need to handle processing the input image such that it can be used in your network. \n",
    "\n",
    "## Image Preprocessing\n",
    "\n",
    "You'll want to use `PIL` to load the image ([documentation](https://pillow.readthedocs.io/en/latest/reference/Image.html)). It's best to write a function that preprocesses the image so it can be used as input for the model. This function should process the images in the same manner used for training. \n",
    "\n",
    "First, resize the images where the shortest side is 256 pixels, keeping the aspect ratio. This can be done with the [`thumbnail`](http://pillow.readthedocs.io/en/3.1.x/reference/Image.html#PIL.Image.Image.thumbnail) or [`resize`](http://pillow.readthedocs.io/en/3.1.x/reference/Image.html#PIL.Image.Image.thumbnail) methods. Then you'll need to crop out the center 224x224 portion of the image.\n",
    "\n",
    "Color channels of images are typically encoded as integers 0-255, but the model expected floats 0-1. You'll need to convert the values. It's easiest with a Numpy array, which you can get from a PIL image like so `np_image = np.array(pil_image)`.\n",
    "\n",
    "As before, the network expects the images to be normalized in a specific way. For the means, it's `[0.485, 0.456, 0.406]` and for the standard deviations `[0.229, 0.224, 0.225]`. You'll want to subtract the means from each color channel, then divide by the standard deviation. \n",
    "\n",
    "And finally, PyTorch expects the color channel to be the first dimension but it's the third dimension in the PIL image and Numpy array. You can reorder dimensions using [`ndarray.transpose`](https://docs.scipy.org/doc/numpy-1.13.0/reference/generated/numpy.ndarray.transpose.html). The color channel needs to be first and retain the order of the other two dimensions."
   ]
  },
  {
   "cell_type": "code",
   "execution_count": 12,
   "metadata": {},
   "outputs": [
    {
     "name": "stdout",
     "output_type": "stream",
     "text": [
      "torch.Size([3, 224, 224])\n"
     ]
    }
   ],
   "source": [
    "def process_image(image):\n",
    "    ''' Scales, crops, and normalizes a PIL image for a PyTorch model,\n",
    "        returns an Numpy array\n",
    "    '''\n",
    "    \n",
    "    # TODO: Process a PIL image for use in a PyTorch model\n",
    "    img_pil = Image.open(open(image,'rb'))\n",
    "   \n",
    "    adjustments = transforms.Compose([\n",
    "        transforms.Resize(256),\n",
    "        transforms.CenterCrop(224),\n",
    "        transforms.ToTensor(),\n",
    "        transforms.Normalize(mean=[0.485, 0.456, 0.406], std=[0.229, 0.224, 0.225])\n",
    "    ])\n",
    "    \n",
    "    img_tensor = adjustments(img_pil)\n",
    "    \n",
    "    return img_tensor\n",
    "\n",
    "\n",
    "# Process a PIL image for use in a PyTorch model\n",
    "\n",
    "img = (data_dir + '/test' + '/1/' + 'image_06752.jpg')\n",
    "img = process_image(img)\n",
    "print(img.shape)\n"
   ]
  },
  {
   "cell_type": "markdown",
   "metadata": {},
   "source": [
    "To check your work, the function below converts a PyTorch tensor and displays it in the notebook. If your `process_image` function works, running the output through this function should return the original image (except for the cropped out portions)."
   ]
  },
  {
   "cell_type": "code",
   "execution_count": 13,
   "metadata": {},
   "outputs": [],
   "source": [
    "def imshow(image, ax=None, title=None):\n",
    "    \"\"\"Imshow for Tensor.\"\"\"\n",
    "    if ax is None:\n",
    "        fig, ax = plt.subplots()\n",
    "    \n",
    "    # PyTorch tensors assume the color channel is the first dimension\n",
    "    # but matplotlib assumes is the third dimension\n",
    "    image = image.numpy().transpose((1, 2, 0))\n",
    "    \n",
    "    # Undo preprocessing\n",
    "    mean = np.array([0.485, 0.456, 0.406])\n",
    "    std = np.array([0.229, 0.224, 0.225])\n",
    "    image = std * image + mean\n",
    "    \n",
    "    # Image needs to be clipped between 0 and 1 or it looks like noise when displayed\n",
    "    image = np.clip(image, 0, 1)\n",
    "    \n",
    "    ax.imshow(image)\n",
    "    \n",
    "    return ax"
   ]
  },
  {
   "cell_type": "markdown",
   "metadata": {},
   "source": [
    "## Class Prediction\n",
    "\n",
    "Once you can get images in the correct format, it's time to write a function for making predictions with your model. A common practice is to predict the top 5 or so (usually called top-$K$) most probable classes. You'll want to calculate the class probabilities then find the $K$ largest values.\n",
    "\n",
    "To get the top $K$ largest values in a tensor use [`x.topk(k)`](http://pytorch.org/docs/master/torch.html#torch.topk). This method returns both the highest `k` probabilities and the indices of those probabilities corresponding to the classes. You need to convert from these indices to the actual class labels using `class_to_idx` which hopefully you added to the model or from an `ImageFolder` you used to load the data ([see here](#Save-the-checkpoint)). Make sure to invert the dictionary so you get a mapping from index to class as well.\n",
    "\n",
    "Again, this method should take a path to an image and a model checkpoint, then return the probabilities and classes.\n",
    "\n",
    "```python\n",
    "probs, classes = predict(image_path, model)\n",
    "print(probs)\n",
    "print(classes)\n",
    "> [ 0.01558163  0.01541934  0.01452626  0.01443549  0.01407339]\n",
    "> ['70', '3', '45', '62', '55']\n",
    "```"
   ]
  },
  {
   "cell_type": "code",
   "execution_count": 14,
   "metadata": {},
   "outputs": [],
   "source": [
    "\n",
    "model.class_to_idx =train_data.class_to_idx\n",
    "\n",
    "ctx = model.class_to_idx\n",
    "\n",
    "def predict(image_path, model, topk=5):\n",
    "    ''' Predict the class (or classes) of an image using a trained deep learning model.\n",
    "    '''\n",
    "    \n",
    "    # TODO: Implement the code to predict the class from an image file\n",
    "    model.to(device)\n",
    "    img_torch = process_image(image_path)\n",
    "    img_torch = img_torch.unsqueeze_(0)\n",
    "    img_torch = img_torch.float()\n",
    "    \n",
    "    with torch.no_grad():\n",
    "        output = model.forward(img_torch.to(device))\n",
    "        \n",
    "    probability = F.softmax(output.data,dim=1)\n",
    "    \n",
    "    return probability.topk(topk)\n",
    "\n"
   ]
  },
  {
   "cell_type": "code",
   "execution_count": 15,
   "metadata": {},
   "outputs": [
    {
     "name": "stdout",
     "output_type": "stream",
     "text": [
      "tensor([[ 1.0000e+00,  1.4893e-12,  6.2326e-15,  7.1698e-16,  2.8182e-16]], device='cuda:0')\n",
      "tensor([[  1,   8,  20,  24,  31]], device='cuda:0')\n"
     ]
    }
   ],
   "source": [
    "img = (data_dir + '/test' + '/10/' + 'image_07104.jpg')\n",
    "val1, val2 = predict(img, model)\n",
    "print(val1)\n",
    "print(val2)"
   ]
  },
  {
   "cell_type": "markdown",
   "metadata": {},
   "source": [
    "## Sanity Checking\n",
    "\n",
    "Now that you can use a trained model for predictions, check to make sure it makes sense. Even if the testing accuracy is high, it's always good to check that there aren't obvious bugs. Use `matplotlib` to plot the probabilities for the top 5 classes as a bar graph, along with the input image. It should look like this:\n",
    "\n",
    "<img src='assets/inference_example.png' width=300px>\n",
    "\n",
    "You can convert from the class integer encoding to actual flower names with the `cat_to_name.json` file (should have been loaded earlier in the notebook). To show a PyTorch tensor as an image, use the `imshow` function defined above."
   ]
  },
  {
   "cell_type": "code",
   "execution_count": 36,
   "metadata": {},
   "outputs": [],
   "source": [
    "# TODO: Display an image along with the top 5 classes\n",
    "\n",
    "# Test out the network!\n",
    "def check_sanity():\n",
    "    plt.rcParams[\"figure.figsize\"] = (10,5)\n",
    "    plt.subplot(211)\n",
    "    \n",
    "    index = 1\n",
    "    path = test_dir + '/1/image_06743.jpg'\n",
    "    \n",
    "    probabilities = predict(path, model)\n",
    "    image = process_image(path)\n",
    "    probabilities = probabilities\n",
    "    prob , classes = probabilities\n",
    "    axs = imshow(image, ax = plt)\n",
    "    axs.axis('off')\n",
    "    axs.title(cat_to_name[str(index)])\n",
    "    axs.show()\n",
    "    idx_to_class = {val: key for key, val in model.class_to_idx.items()}\n",
    "    top_classes = [idx_to_class[each] for each in np.array(probabilities[1][0])]\n",
    "    a = np.array(probabilities[0][0])\n",
    "    b = [cat_to_name[index] for index in top_classes]\n",
    "    \n",
    "    N=float(len(b))\n",
    "    fig,ax = plt.subplots(figsize=(8,3))\n",
    "    width = 0.8\n",
    "    tickLocations = np.arange(N)\n",
    "    ax.bar(tickLocations, a, width, linewidth=4.0, align = 'center')\n",
    "    ax.set_xticks(ticks = tickLocations)\n",
    "    ax.set_xticklabels(b)\n",
    "    ax.set_xlim(min(tickLocations)-0.6,max(tickLocations)+0.6)\n",
    "    ax.set_yticks([0.2,0.4,0.6,0.8,1,1.2])\n",
    "    ax.set_ylim((0,1))\n",
    "    ax.yaxis.grid(True)\n",
    "    ax.yaxis.set_major_formatter(FormatStrFormatter('%.2f'))\n",
    "\n",
    "    plt.show()\n",
    "\n",
    "    "
   ]
  },
  {
   "cell_type": "code",
   "execution_count": 37,
   "metadata": {},
   "outputs": [
    {
     "data": {
      "image/png": "[encoded data removed]",
      "text/plain": [
       "<matplotlib.figure.Figure at 0x7f8080421898>"
      ]
     },
     "metadata": {
      "needs_background": "light"
     },
     "output_type": "display_data"
    },
    {
     "data": {
      "image/png": "[encoded data removed]",
      "text/plain": [
       "<matplotlib.figure.Figure at 0x7f80803caf60>"
      ]
     },
     "metadata": {
      "needs_background": "light"
     },
     "output_type": "display_data"
    }
   ],
   "source": [
    "check_sanity()"
   ]
  },
  {
   "cell_type": "code",
   "execution_count": null,
   "metadata": {},
   "outputs": [],
   "source": []
  },
  {
   "cell_type": "code",
   "execution_count": null,
   "metadata": {},
   "outputs": [],
   "source": []
  }
 ],
 "metadata": {
  "kernelspec": {
   "display_name": "Python 3",
   "language": "python",
   "name": "python3"
  },
  "language_info": {
   "codemirror_mode": {
    "name": "ipython",
    "version": 3
   },
   "file_extension": ".py",
   "mimetype": "text/x-python",
   "name": "python",
   "nbconvert_exporter": "python",
   "pygments_lexer": "ipython3",
   "version": "3.6.3"
  }
 },
 "nbformat": 4,
 "nbformat_minor": 2
}
